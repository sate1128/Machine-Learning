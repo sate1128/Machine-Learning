{
 "cells": [
  {
   "cell_type": "markdown",
   "metadata": {},
   "source": [
    "Q4"
   ]
  },
  {
   "cell_type": "code",
   "execution_count": 1,
   "metadata": {},
   "outputs": [],
   "source": [
    "import pandas as pd\n",
    "import numpy as np\n",
    "\n",
    "num = np.random.uniform(0,1,10000)"
   ]
  },
  {
   "cell_type": "code",
   "execution_count": 2,
   "metadata": {},
   "outputs": [
    {
     "name": "stdout",
     "output_type": "stream",
     "text": [
      "0.48112868409 0.0689203843189\n"
     ]
    }
   ],
   "source": [
    "a = np.array([])\n",
    "for i in range(20):\n",
    "    select10 = np.random.choice(num,10)\n",
    "    a = np.append(a,select10.mean())\n",
    "print(a.mean(),a.std())"
   ]
  },
  {
   "cell_type": "code",
   "execution_count": 3,
   "metadata": {},
   "outputs": [
    {
     "name": "stdout",
     "output_type": "stream",
     "text": [
      "0.499421760376 0.00854388743623\n"
     ]
    }
   ],
   "source": [
    "b = np.array([])\n",
    "for i in range(50):\n",
    "    select1000 = np.random.choice(num,1000)\n",
    "    b = np.append(b,select1000.mean())\n",
    "print(b.mean(),b.std())"
   ]
  },
  {
   "cell_type": "markdown",
   "metadata": {},
   "source": [
    "Q6"
   ]
  },
  {
   "cell_type": "code",
   "execution_count": 5,
   "metadata": {},
   "outputs": [
    {
     "data": {
      "text/plain": [
       "array([ 0.        ,  1.0241976 ,  2.00071575,  2.07680962,  1.45454119,\n",
       "       -0.5779588 ])"
      ]
     },
     "execution_count": 5,
     "metadata": {},
     "output_type": "execute_result"
    }
   ],
   "source": [
    "from sklearn import linear_model\n",
    "from sklearn.preprocessing import PolynomialFeatures\n",
    "x = np.random.uniform(-1,1,2000)\n",
    "x = np.reshape(x, (-1, 2))\n",
    "y = []\n",
    "for i in range(1000):\n",
    "    tmpx = []\n",
    "    tmp = 2*x[i][0]**2-0.6*x[i][1]**2+1.5*x[i][0]*x[i][1]+x[i][0]+2*x[i][1]+np.random.rand()\n",
    "    y.append(tmp)\n",
    "y = np.array(y)\n",
    "\n",
    "regr = linear_model.LinearRegression()\n",
    "poly = PolynomialFeatures(2)\n",
    "X_transform = poly.fit_transform(x)\n",
    "regr.fit(X_transform,y)\n",
    "regr.coef_"
   ]
  },
  {
   "cell_type": "code",
   "execution_count": 12,
   "metadata": {},
   "outputs": [
    {
     "data": {
      "text/plain": [
       "0.24510714659490254"
      ]
     },
     "execution_count": 12,
     "metadata": {},
     "output_type": "execute_result"
    }
   ],
   "source": [
    "from sklearn.metrics import mean_absolute_error\n",
    "y_pred = regr.predict(X_transform)\n",
    "mean_absolute_error(y, y_pred)"
   ]
  },
  {
   "cell_type": "code",
   "execution_count": null,
   "metadata": {},
   "outputs": [],
   "source": []
  }
 ],
 "metadata": {
  "kernelspec": {
   "display_name": "Python 3",
   "language": "python",
   "name": "python3"
  },
  "language_info": {
   "codemirror_mode": {
    "name": "ipython",
    "version": 3
   },
   "file_extension": ".py",
   "mimetype": "text/x-python",
   "name": "python",
   "nbconvert_exporter": "python",
   "pygments_lexer": "ipython3",
   "version": "3.6.2"
  }
 },
 "nbformat": 4,
 "nbformat_minor": 2
}
